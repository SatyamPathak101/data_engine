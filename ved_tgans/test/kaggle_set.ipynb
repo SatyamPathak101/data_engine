{
 "cells": [
  {
   "cell_type": "code",
   "execution_count": 1,
   "metadata": {},
   "outputs": [],
   "source": [
    "import numpy as np\n",
    "import pandas as pd\n",
    "import matplotlib.pyplot as plt\n",
    "import seaborn as sns\n",
    "from ctgan.synthesizers.ctgan import CTGAN\n",
    "from sdv.single_table import CTGANSynthesizer\n",
    "from sdv.metadata import SingleTableMetadata\n",
    "\n",
    "import warnings\n",
    "warnings.filterwarnings('ignore')"
   ]
  },
  {
   "cell_type": "code",
   "execution_count": 2,
   "metadata": {},
   "outputs": [
    {
     "data": {
      "text/html": [
       "<div>\n",
       "<style scoped>\n",
       "    .dataframe tbody tr th:only-of-type {\n",
       "        vertical-align: middle;\n",
       "    }\n",
       "\n",
       "    .dataframe tbody tr th {\n",
       "        vertical-align: top;\n",
       "    }\n",
       "\n",
       "    .dataframe thead th {\n",
       "        text-align: right;\n",
       "    }\n",
       "</style>\n",
       "<table border=\"1\" class=\"dataframe\">\n",
       "  <thead>\n",
       "    <tr style=\"text-align: right;\">\n",
       "      <th></th>\n",
       "      <th>0</th>\n",
       "      <th>1</th>\n",
       "      <th>2</th>\n",
       "      <th>3</th>\n",
       "      <th>4</th>\n",
       "    </tr>\n",
       "  </thead>\n",
       "  <tbody>\n",
       "    <tr>\n",
       "      <th>Name</th>\n",
       "      <td>Tiffany Ramirez</td>\n",
       "      <td>Ruben Burns</td>\n",
       "      <td>Chad Byrd</td>\n",
       "      <td>Antonio Frederick</td>\n",
       "      <td>Mrs. Brandy Flowers</td>\n",
       "    </tr>\n",
       "    <tr>\n",
       "      <th>Age</th>\n",
       "      <td>81</td>\n",
       "      <td>35</td>\n",
       "      <td>61</td>\n",
       "      <td>49</td>\n",
       "      <td>51</td>\n",
       "    </tr>\n",
       "    <tr>\n",
       "      <th>Gender</th>\n",
       "      <td>Female</td>\n",
       "      <td>Male</td>\n",
       "      <td>Male</td>\n",
       "      <td>Male</td>\n",
       "      <td>Male</td>\n",
       "    </tr>\n",
       "    <tr>\n",
       "      <th>Blood Type</th>\n",
       "      <td>O-</td>\n",
       "      <td>O+</td>\n",
       "      <td>B-</td>\n",
       "      <td>B-</td>\n",
       "      <td>O-</td>\n",
       "    </tr>\n",
       "    <tr>\n",
       "      <th>Medical Condition</th>\n",
       "      <td>Diabetes</td>\n",
       "      <td>Asthma</td>\n",
       "      <td>Obesity</td>\n",
       "      <td>Asthma</td>\n",
       "      <td>Arthritis</td>\n",
       "    </tr>\n",
       "    <tr>\n",
       "      <th>Date of Admission</th>\n",
       "      <td>2022-11-17</td>\n",
       "      <td>2023-06-01</td>\n",
       "      <td>2019-01-09</td>\n",
       "      <td>2020-05-02</td>\n",
       "      <td>2021-07-09</td>\n",
       "    </tr>\n",
       "    <tr>\n",
       "      <th>Doctor</th>\n",
       "      <td>Patrick Parker</td>\n",
       "      <td>Diane Jackson</td>\n",
       "      <td>Paul Baker</td>\n",
       "      <td>Brian Chandler</td>\n",
       "      <td>Dustin Griffin</td>\n",
       "    </tr>\n",
       "    <tr>\n",
       "      <th>Hospital</th>\n",
       "      <td>Wallace-Hamilton</td>\n",
       "      <td>Burke, Griffin and Cooper</td>\n",
       "      <td>Walton LLC</td>\n",
       "      <td>Garcia Ltd</td>\n",
       "      <td>Jones, Brown and Murray</td>\n",
       "    </tr>\n",
       "    <tr>\n",
       "      <th>Insurance Provider</th>\n",
       "      <td>Medicare</td>\n",
       "      <td>UnitedHealthcare</td>\n",
       "      <td>Medicare</td>\n",
       "      <td>Medicare</td>\n",
       "      <td>UnitedHealthcare</td>\n",
       "    </tr>\n",
       "    <tr>\n",
       "      <th>Billing Amount</th>\n",
       "      <td>37490.983364</td>\n",
       "      <td>47304.064845</td>\n",
       "      <td>36874.896997</td>\n",
       "      <td>23303.322092</td>\n",
       "      <td>18086.344184</td>\n",
       "    </tr>\n",
       "    <tr>\n",
       "      <th>Room Number</th>\n",
       "      <td>146</td>\n",
       "      <td>404</td>\n",
       "      <td>292</td>\n",
       "      <td>480</td>\n",
       "      <td>477</td>\n",
       "    </tr>\n",
       "    <tr>\n",
       "      <th>Admission Type</th>\n",
       "      <td>Elective</td>\n",
       "      <td>Emergency</td>\n",
       "      <td>Emergency</td>\n",
       "      <td>Urgent</td>\n",
       "      <td>Urgent</td>\n",
       "    </tr>\n",
       "    <tr>\n",
       "      <th>Discharge Date</th>\n",
       "      <td>2022-12-01</td>\n",
       "      <td>2023-06-15</td>\n",
       "      <td>2019-02-08</td>\n",
       "      <td>2020-05-03</td>\n",
       "      <td>2021-08-02</td>\n",
       "    </tr>\n",
       "    <tr>\n",
       "      <th>Medication</th>\n",
       "      <td>Aspirin</td>\n",
       "      <td>Lipitor</td>\n",
       "      <td>Lipitor</td>\n",
       "      <td>Penicillin</td>\n",
       "      <td>Paracetamol</td>\n",
       "    </tr>\n",
       "    <tr>\n",
       "      <th>Test Results</th>\n",
       "      <td>Inconclusive</td>\n",
       "      <td>Normal</td>\n",
       "      <td>Normal</td>\n",
       "      <td>Abnormal</td>\n",
       "      <td>Normal</td>\n",
       "    </tr>\n",
       "  </tbody>\n",
       "</table>\n",
       "</div>"
      ],
      "text/plain": [
       "                                   0                          1             2  \\\n",
       "Name                 Tiffany Ramirez                Ruben Burns     Chad Byrd   \n",
       "Age                               81                         35            61   \n",
       "Gender                        Female                       Male          Male   \n",
       "Blood Type                        O-                         O+            B-   \n",
       "Medical Condition           Diabetes                     Asthma       Obesity   \n",
       "Date of Admission         2022-11-17                 2023-06-01    2019-01-09   \n",
       "Doctor                Patrick Parker              Diane Jackson    Paul Baker   \n",
       "Hospital            Wallace-Hamilton  Burke, Griffin and Cooper    Walton LLC   \n",
       "Insurance Provider          Medicare           UnitedHealthcare      Medicare   \n",
       "Billing Amount          37490.983364               47304.064845  36874.896997   \n",
       "Room Number                      146                        404           292   \n",
       "Admission Type              Elective                  Emergency     Emergency   \n",
       "Discharge Date            2022-12-01                 2023-06-15    2019-02-08   \n",
       "Medication                   Aspirin                    Lipitor       Lipitor   \n",
       "Test Results            Inconclusive                     Normal        Normal   \n",
       "\n",
       "                                    3                        4  \n",
       "Name                Antonio Frederick      Mrs. Brandy Flowers  \n",
       "Age                                49                       51  \n",
       "Gender                           Male                     Male  \n",
       "Blood Type                         B-                       O-  \n",
       "Medical Condition              Asthma                Arthritis  \n",
       "Date of Admission          2020-05-02               2021-07-09  \n",
       "Doctor                 Brian Chandler           Dustin Griffin  \n",
       "Hospital                   Garcia Ltd  Jones, Brown and Murray  \n",
       "Insurance Provider           Medicare         UnitedHealthcare  \n",
       "Billing Amount           23303.322092             18086.344184  \n",
       "Room Number                       480                      477  \n",
       "Admission Type                 Urgent                   Urgent  \n",
       "Discharge Date             2020-05-03               2021-08-02  \n",
       "Medication                 Penicillin              Paracetamol  \n",
       "Test Results                 Abnormal                   Normal  "
      ]
     },
     "execution_count": 2,
     "metadata": {},
     "output_type": "execute_result"
    }
   ],
   "source": [
    "df = pd.read_csv('data/healthcare_dataset.csv')\n",
    "df.head().T"
   ]
  },
  {
   "cell_type": "code",
   "execution_count": 3,
   "metadata": {},
   "outputs": [],
   "source": [
    "# creating synthesizing and augmentation copy\n",
    "df_synthetic = df.copy()\n",
    "df_augmented = df.copy()"
   ]
  },
  {
   "cell_type": "code",
   "execution_count": 4,
   "metadata": {},
   "outputs": [
    {
     "name": "stdout",
     "output_type": "stream",
     "text": [
      "<class 'pandas.core.frame.DataFrame'>\n",
      "RangeIndex: 10000 entries, 0 to 9999\n",
      "Data columns (total 15 columns):\n",
      " #   Column              Non-Null Count  Dtype  \n",
      "---  ------              --------------  -----  \n",
      " 0   Name                10000 non-null  object \n",
      " 1   Age                 10000 non-null  int64  \n",
      " 2   Gender              10000 non-null  object \n",
      " 3   Blood Type          10000 non-null  object \n",
      " 4   Medical Condition   10000 non-null  object \n",
      " 5   Date of Admission   10000 non-null  object \n",
      " 6   Doctor              10000 non-null  object \n",
      " 7   Hospital            10000 non-null  object \n",
      " 8   Insurance Provider  10000 non-null  object \n",
      " 9   Billing Amount      10000 non-null  float64\n",
      " 10  Room Number         10000 non-null  int64  \n",
      " 11  Admission Type      10000 non-null  object \n",
      " 12  Discharge Date      10000 non-null  object \n",
      " 13  Medication          10000 non-null  object \n",
      " 14  Test Results        10000 non-null  object \n",
      "dtypes: float64(1), int64(2), object(12)\n",
      "memory usage: 1.1+ MB\n"
     ]
    }
   ],
   "source": [
    "df.info()"
   ]
  },
  {
   "cell_type": "code",
   "execution_count": 5,
   "metadata": {},
   "outputs": [
    {
     "data": {
      "text/plain": [
       "Index(['Name', 'Age', 'Gender', 'Blood Type', 'Medical Condition',\n",
       "       'Date of Admission', 'Doctor', 'Hospital', 'Insurance Provider',\n",
       "       'Billing Amount', 'Room Number', 'Admission Type', 'Discharge Date',\n",
       "       'Medication', 'Test Results'],\n",
       "      dtype='object')"
      ]
     },
     "execution_count": 5,
     "metadata": {},
     "output_type": "execute_result"
    }
   ],
   "source": [
    "df.columns"
   ]
  },
  {
   "cell_type": "code",
   "execution_count": 6,
   "metadata": {},
   "outputs": [
    {
     "data": {
      "text/plain": [
       "Name                   9378\n",
       "Age                      68\n",
       "Gender                    2\n",
       "Blood Type                8\n",
       "Medical Condition         6\n",
       "Date of Admission      1815\n",
       "Doctor                 9416\n",
       "Hospital               8639\n",
       "Insurance Provider        5\n",
       "Billing Amount        10000\n",
       "Room Number             400\n",
       "Admission Type            3\n",
       "Discharge Date         1834\n",
       "Medication                5\n",
       "Test Results              3\n",
       "dtype: int64"
      ]
     },
     "execution_count": 6,
     "metadata": {},
     "output_type": "execute_result"
    }
   ],
   "source": [
    "df.nunique()"
   ]
  },
  {
   "cell_type": "markdown",
   "metadata": {},
   "source": [
    "#### Synthesizing"
   ]
  },
  {
   "cell_type": "code",
   "execution_count": 7,
   "metadata": {},
   "outputs": [],
   "source": [
    "not_imp_cols = ['Name', 'Date of Admission', 'Doctor', 'Hospital', 'Insurance Provider', 'Billing Amount', 'Room Number', 'Admission Type', 'Discharge Date']\n",
    "discrete_cols = ['Age', 'Gender', 'Blood Type', 'Medical Condition', 'Medication', 'Test Results']"
   ]
  },
  {
   "cell_type": "code",
   "execution_count": 8,
   "metadata": {},
   "outputs": [
    {
     "data": {
      "text/html": [
       "<div>\n",
       "<style scoped>\n",
       "    .dataframe tbody tr th:only-of-type {\n",
       "        vertical-align: middle;\n",
       "    }\n",
       "\n",
       "    .dataframe tbody tr th {\n",
       "        vertical-align: top;\n",
       "    }\n",
       "\n",
       "    .dataframe thead th {\n",
       "        text-align: right;\n",
       "    }\n",
       "</style>\n",
       "<table border=\"1\" class=\"dataframe\">\n",
       "  <thead>\n",
       "    <tr style=\"text-align: right;\">\n",
       "      <th></th>\n",
       "      <th>0</th>\n",
       "      <th>1</th>\n",
       "      <th>2</th>\n",
       "      <th>3</th>\n",
       "      <th>4</th>\n",
       "    </tr>\n",
       "  </thead>\n",
       "  <tbody>\n",
       "    <tr>\n",
       "      <th>Age</th>\n",
       "      <td>81</td>\n",
       "      <td>35</td>\n",
       "      <td>61</td>\n",
       "      <td>49</td>\n",
       "      <td>51</td>\n",
       "    </tr>\n",
       "    <tr>\n",
       "      <th>Gender</th>\n",
       "      <td>Female</td>\n",
       "      <td>Male</td>\n",
       "      <td>Male</td>\n",
       "      <td>Male</td>\n",
       "      <td>Male</td>\n",
       "    </tr>\n",
       "    <tr>\n",
       "      <th>Blood Type</th>\n",
       "      <td>O-</td>\n",
       "      <td>O+</td>\n",
       "      <td>B-</td>\n",
       "      <td>B-</td>\n",
       "      <td>O-</td>\n",
       "    </tr>\n",
       "    <tr>\n",
       "      <th>Medical Condition</th>\n",
       "      <td>Diabetes</td>\n",
       "      <td>Asthma</td>\n",
       "      <td>Obesity</td>\n",
       "      <td>Asthma</td>\n",
       "      <td>Arthritis</td>\n",
       "    </tr>\n",
       "    <tr>\n",
       "      <th>Medication</th>\n",
       "      <td>Aspirin</td>\n",
       "      <td>Lipitor</td>\n",
       "      <td>Lipitor</td>\n",
       "      <td>Penicillin</td>\n",
       "      <td>Paracetamol</td>\n",
       "    </tr>\n",
       "    <tr>\n",
       "      <th>Test Results</th>\n",
       "      <td>Inconclusive</td>\n",
       "      <td>Normal</td>\n",
       "      <td>Normal</td>\n",
       "      <td>Abnormal</td>\n",
       "      <td>Normal</td>\n",
       "    </tr>\n",
       "  </tbody>\n",
       "</table>\n",
       "</div>"
      ],
      "text/plain": [
       "                              0        1        2           3            4\n",
       "Age                          81       35       61          49           51\n",
       "Gender                   Female     Male     Male        Male         Male\n",
       "Blood Type                   O-       O+       B-          B-           O-\n",
       "Medical Condition      Diabetes   Asthma  Obesity      Asthma    Arthritis\n",
       "Medication              Aspirin  Lipitor  Lipitor  Penicillin  Paracetamol\n",
       "Test Results       Inconclusive   Normal   Normal    Abnormal       Normal"
      ]
     },
     "execution_count": 8,
     "metadata": {},
     "output_type": "execute_result"
    }
   ],
   "source": [
    "df_synthetic = df_synthetic.drop(not_imp_cols, axis=1)\n",
    "df_synthetic.head().T"
   ]
  },
  {
   "cell_type": "code",
   "execution_count": 9,
   "metadata": {},
   "outputs": [
    {
     "data": {
      "text/plain": [
       "\"discrete_cols_count = len(discrete_cols)\\nfor i in range(discrete_cols_count):\\n    for j in range(discrete_cols_count):\\n        if i != j:\\n            plt.figure(figsize=(6, 3))\\n            plt.scatter(df[discrete_cols[i]], df[discrete_cols[j]])\\n            plt.xlabel(f'{discrete_cols[i]}')\\n            plt.ylabel(f'{discrete_cols[j]}')\\n            plt.title(f'Scatter plot of {discrete_cols[i]} vs {discrete_cols[i]}')\\n            plt.show()\""
      ]
     },
     "execution_count": 9,
     "metadata": {},
     "output_type": "execute_result"
    }
   ],
   "source": [
    "'''discrete_cols_count = len(discrete_cols)\n",
    "for i in range(discrete_cols_count):\n",
    "    for j in range(discrete_cols_count):\n",
    "        if i != j:\n",
    "            plt.figure(figsize=(6, 3))\n",
    "            plt.scatter(df[discrete_cols[i]], df[discrete_cols[j]])\n",
    "            plt.xlabel(f'{discrete_cols[i]}')\n",
    "            plt.ylabel(f'{discrete_cols[j]}')\n",
    "            plt.title(f'Scatter plot of {discrete_cols[i]} vs {discrete_cols[i]}')\n",
    "            plt.show()'''"
   ]
  },
  {
   "cell_type": "code",
   "execution_count": 10,
   "metadata": {},
   "outputs": [],
   "source": [
    "ctgan = CTGAN(epochs=10)\n",
    "ctgan.fit(df_synthetic, discrete_cols)"
   ]
  },
  {
   "cell_type": "code",
   "execution_count": 11,
   "metadata": {},
   "outputs": [
    {
     "data": {
      "text/html": [
       "<div>\n",
       "<style scoped>\n",
       "    .dataframe tbody tr th:only-of-type {\n",
       "        vertical-align: middle;\n",
       "    }\n",
       "\n",
       "    .dataframe tbody tr th {\n",
       "        vertical-align: top;\n",
       "    }\n",
       "\n",
       "    .dataframe thead th {\n",
       "        text-align: right;\n",
       "    }\n",
       "</style>\n",
       "<table border=\"1\" class=\"dataframe\">\n",
       "  <thead>\n",
       "    <tr style=\"text-align: right;\">\n",
       "      <th></th>\n",
       "      <th>0</th>\n",
       "      <th>1</th>\n",
       "      <th>2</th>\n",
       "      <th>3</th>\n",
       "      <th>4</th>\n",
       "    </tr>\n",
       "  </thead>\n",
       "  <tbody>\n",
       "    <tr>\n",
       "      <th>Age</th>\n",
       "      <td>64</td>\n",
       "      <td>24</td>\n",
       "      <td>72</td>\n",
       "      <td>79</td>\n",
       "      <td>58</td>\n",
       "    </tr>\n",
       "    <tr>\n",
       "      <th>Gender</th>\n",
       "      <td>Male</td>\n",
       "      <td>Female</td>\n",
       "      <td>Male</td>\n",
       "      <td>Female</td>\n",
       "      <td>Male</td>\n",
       "    </tr>\n",
       "    <tr>\n",
       "      <th>Blood Type</th>\n",
       "      <td>B+</td>\n",
       "      <td>O+</td>\n",
       "      <td>B-</td>\n",
       "      <td>A-</td>\n",
       "      <td>AB-</td>\n",
       "    </tr>\n",
       "    <tr>\n",
       "      <th>Medical Condition</th>\n",
       "      <td>Obesity</td>\n",
       "      <td>Asthma</td>\n",
       "      <td>Cancer</td>\n",
       "      <td>Cancer</td>\n",
       "      <td>Cancer</td>\n",
       "    </tr>\n",
       "    <tr>\n",
       "      <th>Medication</th>\n",
       "      <td>Aspirin</td>\n",
       "      <td>Paracetamol</td>\n",
       "      <td>Penicillin</td>\n",
       "      <td>Paracetamol</td>\n",
       "      <td>Lipitor</td>\n",
       "    </tr>\n",
       "    <tr>\n",
       "      <th>Test Results</th>\n",
       "      <td>Inconclusive</td>\n",
       "      <td>Inconclusive</td>\n",
       "      <td>Inconclusive</td>\n",
       "      <td>Inconclusive</td>\n",
       "      <td>Normal</td>\n",
       "    </tr>\n",
       "  </tbody>\n",
       "</table>\n",
       "</div>"
      ],
      "text/plain": [
       "                              0             1             2             3  \\\n",
       "Age                          64            24            72            79   \n",
       "Gender                     Male        Female          Male        Female   \n",
       "Blood Type                   B+            O+            B-            A-   \n",
       "Medical Condition       Obesity        Asthma        Cancer        Cancer   \n",
       "Medication              Aspirin   Paracetamol    Penicillin   Paracetamol   \n",
       "Test Results       Inconclusive  Inconclusive  Inconclusive  Inconclusive   \n",
       "\n",
       "                         4  \n",
       "Age                     58  \n",
       "Gender                Male  \n",
       "Blood Type             AB-  \n",
       "Medical Condition   Cancer  \n",
       "Medication         Lipitor  \n",
       "Test Results        Normal  "
      ]
     },
     "execution_count": 11,
     "metadata": {},
     "output_type": "execute_result"
    }
   ],
   "source": [
    "synthesized_data = ctgan.sample(1000)\n",
    "synthesized_data.head().T"
   ]
  },
  {
   "cell_type": "markdown",
   "metadata": {},
   "source": [
    "##### Augmented"
   ]
  },
  {
   "cell_type": "code",
   "execution_count": 12,
   "metadata": {},
   "outputs": [
    {
     "data": {
      "text/html": [
       "<div>\n",
       "<style scoped>\n",
       "    .dataframe tbody tr th:only-of-type {\n",
       "        vertical-align: middle;\n",
       "    }\n",
       "\n",
       "    .dataframe tbody tr th {\n",
       "        vertical-align: top;\n",
       "    }\n",
       "\n",
       "    .dataframe thead th {\n",
       "        text-align: right;\n",
       "    }\n",
       "</style>\n",
       "<table border=\"1\" class=\"dataframe\">\n",
       "  <thead>\n",
       "    <tr style=\"text-align: right;\">\n",
       "      <th></th>\n",
       "      <th>0</th>\n",
       "      <th>1</th>\n",
       "      <th>2</th>\n",
       "      <th>3</th>\n",
       "      <th>4</th>\n",
       "    </tr>\n",
       "  </thead>\n",
       "  <tbody>\n",
       "    <tr>\n",
       "      <th>Age</th>\n",
       "      <td>81</td>\n",
       "      <td>35</td>\n",
       "      <td>61</td>\n",
       "      <td>49</td>\n",
       "      <td>51</td>\n",
       "    </tr>\n",
       "    <tr>\n",
       "      <th>Gender</th>\n",
       "      <td>Female</td>\n",
       "      <td>Male</td>\n",
       "      <td>Male</td>\n",
       "      <td>Male</td>\n",
       "      <td>Male</td>\n",
       "    </tr>\n",
       "    <tr>\n",
       "      <th>Blood Type</th>\n",
       "      <td>O-</td>\n",
       "      <td>O+</td>\n",
       "      <td>B-</td>\n",
       "      <td>B-</td>\n",
       "      <td>O-</td>\n",
       "    </tr>\n",
       "    <tr>\n",
       "      <th>Medical Condition</th>\n",
       "      <td>Diabetes</td>\n",
       "      <td>Asthma</td>\n",
       "      <td>Obesity</td>\n",
       "      <td>Asthma</td>\n",
       "      <td>Arthritis</td>\n",
       "    </tr>\n",
       "    <tr>\n",
       "      <th>Medication</th>\n",
       "      <td>Aspirin</td>\n",
       "      <td>Lipitor</td>\n",
       "      <td>Lipitor</td>\n",
       "      <td>Penicillin</td>\n",
       "      <td>Paracetamol</td>\n",
       "    </tr>\n",
       "    <tr>\n",
       "      <th>Test Results</th>\n",
       "      <td>Inconclusive</td>\n",
       "      <td>Normal</td>\n",
       "      <td>Normal</td>\n",
       "      <td>Abnormal</td>\n",
       "      <td>Normal</td>\n",
       "    </tr>\n",
       "  </tbody>\n",
       "</table>\n",
       "</div>"
      ],
      "text/plain": [
       "                              0        1        2           3            4\n",
       "Age                          81       35       61          49           51\n",
       "Gender                   Female     Male     Male        Male         Male\n",
       "Blood Type                   O-       O+       B-          B-           O-\n",
       "Medical Condition      Diabetes   Asthma  Obesity      Asthma    Arthritis\n",
       "Medication              Aspirin  Lipitor  Lipitor  Penicillin  Paracetamol\n",
       "Test Results       Inconclusive   Normal   Normal    Abnormal       Normal"
      ]
     },
     "execution_count": 12,
     "metadata": {},
     "output_type": "execute_result"
    }
   ],
   "source": [
    "df_augmented = df_augmented.drop(not_imp_cols, axis=1)\n",
    "df_augmented.head().T"
   ]
  },
  {
   "cell_type": "code",
   "execution_count": 13,
   "metadata": {},
   "outputs": [],
   "source": [
    "metadata = SingleTableMetadata()\n",
    "metadata.detect_from_dataframe(df_augmented)"
   ]
  },
  {
   "cell_type": "code",
   "execution_count": 14,
   "metadata": {},
   "outputs": [],
   "source": [
    "model = CTGANSynthesizer(metadata=metadata)\n",
    "model.fit(df_augmented)"
   ]
  },
  {
   "cell_type": "code",
   "execution_count": 15,
   "metadata": {},
   "outputs": [
    {
     "data": {
      "text/html": [
       "<div>\n",
       "<style scoped>\n",
       "    .dataframe tbody tr th:only-of-type {\n",
       "        vertical-align: middle;\n",
       "    }\n",
       "\n",
       "    .dataframe tbody tr th {\n",
       "        vertical-align: top;\n",
       "    }\n",
       "\n",
       "    .dataframe thead th {\n",
       "        text-align: right;\n",
       "    }\n",
       "</style>\n",
       "<table border=\"1\" class=\"dataframe\">\n",
       "  <thead>\n",
       "    <tr style=\"text-align: right;\">\n",
       "      <th></th>\n",
       "      <th>0</th>\n",
       "      <th>1</th>\n",
       "      <th>2</th>\n",
       "      <th>3</th>\n",
       "      <th>4</th>\n",
       "    </tr>\n",
       "  </thead>\n",
       "  <tbody>\n",
       "    <tr>\n",
       "      <th>Age</th>\n",
       "      <td>65</td>\n",
       "      <td>77</td>\n",
       "      <td>23</td>\n",
       "      <td>23</td>\n",
       "      <td>66</td>\n",
       "    </tr>\n",
       "    <tr>\n",
       "      <th>Gender</th>\n",
       "      <td>Female</td>\n",
       "      <td>Male</td>\n",
       "      <td>Male</td>\n",
       "      <td>Female</td>\n",
       "      <td>Female</td>\n",
       "    </tr>\n",
       "    <tr>\n",
       "      <th>Blood Type</th>\n",
       "      <td>B+</td>\n",
       "      <td>O+</td>\n",
       "      <td>AB+</td>\n",
       "      <td>A-</td>\n",
       "      <td>O-</td>\n",
       "    </tr>\n",
       "    <tr>\n",
       "      <th>Medical Condition</th>\n",
       "      <td>Obesity</td>\n",
       "      <td>Hypertension</td>\n",
       "      <td>Arthritis</td>\n",
       "      <td>Asthma</td>\n",
       "      <td>Cancer</td>\n",
       "    </tr>\n",
       "    <tr>\n",
       "      <th>Medication</th>\n",
       "      <td>Penicillin</td>\n",
       "      <td>Aspirin</td>\n",
       "      <td>Lipitor</td>\n",
       "      <td>Penicillin</td>\n",
       "      <td>Paracetamol</td>\n",
       "    </tr>\n",
       "    <tr>\n",
       "      <th>Test Results</th>\n",
       "      <td>Abnormal</td>\n",
       "      <td>Inconclusive</td>\n",
       "      <td>Normal</td>\n",
       "      <td>Abnormal</td>\n",
       "      <td>Inconclusive</td>\n",
       "    </tr>\n",
       "  </tbody>\n",
       "</table>\n",
       "</div>"
      ],
      "text/plain": [
       "                            0             1          2           3  \\\n",
       "Age                        65            77         23          23   \n",
       "Gender                 Female          Male       Male      Female   \n",
       "Blood Type                 B+            O+        AB+          A-   \n",
       "Medical Condition     Obesity  Hypertension  Arthritis      Asthma   \n",
       "Medication         Penicillin       Aspirin    Lipitor  Penicillin   \n",
       "Test Results         Abnormal  Inconclusive     Normal    Abnormal   \n",
       "\n",
       "                              4  \n",
       "Age                          66  \n",
       "Gender                   Female  \n",
       "Blood Type                   O-  \n",
       "Medical Condition        Cancer  \n",
       "Medication          Paracetamol  \n",
       "Test Results       Inconclusive  "
      ]
     },
     "execution_count": 15,
     "metadata": {},
     "output_type": "execute_result"
    }
   ],
   "source": [
    "augmented_data = model.sample(1000)\n",
    "augmented_data.head().T"
   ]
  },
  {
   "cell_type": "markdown",
   "metadata": {},
   "source": [
    "#### Testing Accuracy"
   ]
  },
  {
   "cell_type": "code",
   "execution_count": 16,
   "metadata": {},
   "outputs": [],
   "source": [
    "df = df.drop(not_imp_cols, axis=1)"
   ]
  },
  {
   "cell_type": "code",
   "execution_count": 17,
   "metadata": {},
   "outputs": [
    {
     "data": {
      "text/plain": [
       "Text(0.5, 1.0, 'Synthesized Data')"
      ]
     },
     "execution_count": 17,
     "metadata": {},
     "output_type": "execute_result"
    },
    {
     "data": {
      "image/png": "[encoded data removed]",
      "text/plain": [
       "<Figure size 2000x400 with 2 Axes>"
      ]
     },
     "metadata": {},
     "output_type": "display_data"
    }
   ],
   "source": [
    "fig, ax = plt.subplots(1, 2, figsize=(20, 4))\n",
    "ax[0].scatter(df.iloc[:, 0], df.iloc[:, 1])\n",
    "ax[1].scatter(synthesized_data.iloc[:, 0], synthesized_data.iloc[:, 1])\n",
    "ax[0].set_title(\"Original Data\")\n",
    "ax[1].set_title(\"Synthesized Data\")"
   ]
  },
  {
   "cell_type": "code",
   "execution_count": 18,
   "metadata": {},
   "outputs": [
    {
     "data": {
      "text/plain": [
       "Text(0.5, 1.0, 'Augmented Data')"
      ]
     },
     "execution_count": 18,
     "metadata": {},
     "output_type": "execute_result"
    },
    {
     "data": {
      "image/png": "[encoded data removed]",
      "text/plain": [
       "<Figure size 2000x400 with 2 Axes>"
      ]
     },
     "metadata": {},
     "output_type": "display_data"
    }
   ],
   "source": [
    "fig, ax = plt.subplots(1, 2, figsize=(20, 4))\n",
    "ax[0].scatter(df.iloc[:, 0], df.iloc[:, 1])\n",
    "ax[1].scatter(augmented_data.iloc[:, 0], augmented_data.iloc[:, 1])\n",
    "ax[0].set_title(\"Original Data\")\n",
    "ax[1].set_title(\"Augmented Data\")"
   ]
  },
  {
   "cell_type": "code",
   "execution_count": 19,
   "metadata": {},
   "outputs": [],
   "source": [
    "# converting data to sns plotable\n",
    "df_plotable = df.copy()\n",
    "synthetic_plotable = synthesized_data.copy()\n",
    "augmented_plotable = augmented_data.copy()"
   ]
  },
  {
   "cell_type": "code",
   "execution_count": 46,
   "metadata": {},
   "outputs": [],
   "source": [
    "gender_map = {'Male': 0, 'Female': 1}\n",
    "\n",
    "df_plotable.replace(gender_map, inplace=True)\n",
    "synthetic_plotable.replace(gender_map, inplace=True)\n",
    "augmented_plotable.replace(gender_map, inplace=True)\n",
    "\n",
    "blood_map = {}\n",
    "for i in range(len(df_plotable['Blood Type'].unique())):\n",
    "    blood_map[df_plotable['Blood Type'].unique()[i]] = i\n",
    "\n",
    "med_con_map = {}\n",
    "for i in range(len(df_plotable['Medical Condition'].unique())):\n",
    "    blood_map[df_plotable['Medical Condition'].unique()[i]] = i\n",
    "\n",
    "medication = {}\n",
    "for i in range(len(df_plotable['Medication'].unique())):\n",
    "    blood_map[df_plotable['Medication'].unique()[i]] = i\n",
    "\n",
    "test_result_maps = {}\n",
    "for i in range(len(df_plotable['Test Results'].unique())):\n",
    "    blood_map[df_plotable['Test Results'].unique()[i]] = i"
   ]
  },
  {
   "cell_type": "code",
   "execution_count": 47,
   "metadata": {},
   "outputs": [],
   "source": [
    "df_plotable.replace(blood_map, inplace=True)\n",
    "synthetic_plotable.replace(blood_map, inplace=True)\n",
    "augmented_plotable.replace(blood_map, inplace=True)\n",
    "\n",
    "df_plotable.replace(med_con_map, inplace=True)\n",
    "synthetic_plotable.replace(med_con_map, inplace=True)\n",
    "augmented_plotable.replace(med_con_map, inplace=True)\n",
    "\n",
    "df_plotable.replace(medication, inplace=True)\n",
    "synthetic_plotable.replace(medication, inplace=True)\n",
    "augmented_plotable.replace(medication, inplace=True)\n",
    "\n",
    "df_plotable.replace(test_result_maps, inplace=True)\n",
    "synthetic_plotable.replace(blood_map, inplace=True)\n",
    "augmented_plotable.replace(blood_map, inplace=True)\n",
    "\n",
    "df_plotable.replace(blood_map, inplace=True)\n",
    "synthetic_plotable.replace(blood_map, inplace=True)\n",
    "augmented_plotable.replace(blood_map, inplace=True)"
   ]
  },
  {
   "cell_type": "code",
   "execution_count": 48,
   "metadata": {},
   "outputs": [
    {
     "data": {
      "text/plain": [
       "Text(0.5, 1.0, 'Synthesized Data')"
      ]
     },
     "execution_count": 48,
     "metadata": {},
     "output_type": "execute_result"
    },
    {
     "data": {
      "image/png": "[encoded data removed]",
      "text/plain": [
       "<Figure size 2400x1000 with 4 Axes>"
      ]
     },
     "metadata": {},
     "output_type": "display_data"
    }
   ],
   "source": [
    "fig, ax = plt.subplots(1, 2, figsize=(24, 10))\n",
    "sns.heatmap(df_plotable.corr(), annot=True, ax=ax[0], cmap=\"Blues\")\n",
    "sns.heatmap(synthetic_plotable.corr(), annot=True, ax=ax[1], cmap=\"Blues\")\n",
    "ax[0].set_title(\"Original Data\")\n",
    "ax[1].set_title(\"Synthesized Data\")"
   ]
  },
  {
   "cell_type": "code",
   "execution_count": 49,
   "metadata": {},
   "outputs": [
    {
     "name": "stdout",
     "output_type": "stream",
     "text": [
      "Generating report ...\n",
      "(1/2) Evaluating Column Shapes: : 100%|██████████| 6/6 [00:00<00:00, 375.00it/s]\n",
      "(2/2) Evaluating Column Pair Trends: : 100%|██████████| 15/15 [00:00<00:00, 49.58it/s]\n",
      "\n",
      "Overall Score: 94.21%\n",
      "\n",
      "Properties:\n",
      "- Column Shapes: 96.56%\n",
      "- Column Pair Trends: 91.86%\n"
     ]
    }
   ],
   "source": [
    "from sdv.evaluation.single_table import evaluate_quality\n",
    "\n",
    "quality_report = evaluate_quality(\n",
    "    df_plotable,\n",
    "    synthetic_plotable,\n",
    "    metadata)"
   ]
  }
 ],
 "metadata": {
  "kernelspec": {
   "display_name": "crdrp",
   "language": "python",
   "name": "python3"
  },
  "language_info": {
   "codemirror_mode": {
    "name": "ipython",
    "version": 3
   },
   "file_extension": ".py",
   "mimetype": "text/x-python",
   "name": "python",
   "nbconvert_exporter": "python",
   "pygments_lexer": "ipython3",
   "version": "3.11.8"
  }
 },
 "nbformat": 4,
 "nbformat_minor": 2
}
